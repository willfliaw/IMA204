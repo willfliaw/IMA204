{
 "cells": [
  {
   "cell_type": "markdown",
   "metadata": {},
   "source": [
    "# Authors: Anastasiia Karpova; William Liaw"
   ]
  },
  {
   "cell_type": "markdown",
   "metadata": {
    "id": "Ms_hFrhsmsLX"
   },
   "source": [
    "# IMA204 Practical Session - Segmentation of medical images\n",
    "\n"
   ]
  },
  {
   "cell_type": "code",
   "execution_count": 1,
   "metadata": {
    "id": "FjkJwdwwagk8"
   },
   "outputs": [
    {
     "name": "stderr",
     "output_type": "stream",
     "text": [
      "c:\\ProgramData\\Miniconda3\\envs\\ima204\\Lib\\site-packages\\scipy\\__config__.py:34: SyntaxWarning: invalid escape sequence '\\s'\n",
      "  \"linker args\": \"--target=x86_64-pc-windows-msvc, -nostdlib, -Xclang, --dependent-lib=msvcrt, -fuse-ld=lld, -Wl,-defaultlib:C:\\bld\\scipy-split_1705882511542\\_build_env/Library/lib/clang/17/lib/windows/clang_rt.builtins-x86_64.lib\",\n",
      "c:\\ProgramData\\Miniconda3\\envs\\ima204\\Lib\\site-packages\\scipy\\__config__.py:50: SyntaxWarning: invalid escape sequence '\\s'\n",
      "  \"linker args\": \"--target=x86_64-pc-windows-msvc, -nostdlib, -Xclang, --dependent-lib=msvcrt, -fuse-ld=lld, -Wl,-defaultlib:C:\\bld\\scipy-split_1705882511542\\_build_env/Library/lib/clang/17/lib/windows/clang_rt.builtins-x86_64.lib\",\n",
      "c:\\ProgramData\\Miniconda3\\envs\\ima204\\Lib\\site-packages\\scipy\\__config__.py:58: SyntaxWarning: invalid escape sequence '\\s'\n",
      "  \"linker args\": \"--target=x86_64-pc-windows-msvc, -nostdlib, -Xclang, --dependent-lib=msvcrt, -fuse-ld=lld, -Wl,-defaultlib:C:\\bld\\scipy-split_1705882511542\\_build_env/Library/lib/clang/17/lib/windows/clang_rt.builtins-x86_64.lib, -D_CRT_SECURE_NO_WARNINGS, -D_MT, -D_DLL, --target=x86_64-pc-windows-msvc, -nostdlib\",\n"
     ]
    },
    {
     "name": "stdout",
     "output_type": "stream",
     "text": [
      "Working_directory =  c:\\Users\\willf\\OneDrive\\Telecom\\2023-2024\\IMA204\\TP\\TP4\n"
     ]
    }
   ],
   "source": [
    "# For listing files in local foler\n",
    "import glob\n",
    "import os\n",
    "import operator\n",
    "\n",
    "# For Kmeans\n",
    "import cv2\n",
    "import matplotlib.pyplot as plt\n",
    "import numpy as np\n",
    "import skimage\n",
    "import skimage.morphology as morpho\n",
    "from matplotlib.colors import LinearSegmentedColormap, ListedColormap\n",
    "\n",
    "# For ploting utilities of contours on images\n",
    "from mpl_toolkits.axes_grid1 import AxesGrid, make_axes_locatable\n",
    "from scipy import ndimage\n",
    "\n",
    "# For loading .mat files\n",
    "from scipy.io import loadmat\n",
    "from skimage import color, data, morphology, segmentation\n",
    "from skimage.filters import gaussian, rank\n",
    "from skimage.io import imread\n",
    "from skimage.measure import find_contours\n",
    "from skimage.morphology import disk\n",
    "from skimage.segmentation import watershed\n",
    "from skimage.util import img_as_ubyte\n",
    "\n",
    "Working_directory = os.getcwd()\n",
    "print(\"Working_directory = \", Working_directory)"
   ]
  },
  {
   "cell_type": "code",
   "execution_count": 2,
   "metadata": {},
   "outputs": [],
   "source": [
    "def my_kmeans(image, k):\n",
    "    # k = number of clusters\n",
    "\n",
    "    # Reshaping the image\n",
    "    pixel_vals = image.reshape((-1, 1))\n",
    "\n",
    "    # Convert to float type only for supporting cv2.kmean\n",
    "    pixel_vals = np.float32(pixel_vals)\n",
    "    criteria = (\n",
    "        cv2.TERM_CRITERIA_EPS + cv2.TERM_CRITERIA_MAX_ITER,\n",
    "        100,\n",
    "        0.85,\n",
    "    )  # criteria\n",
    "    retval, labels, centers = cv2.kmeans(\n",
    "        pixel_vals, k, None, criteria, 10, cv2.KMEANS_PP_CENTERS\n",
    "    )\n",
    "    centers = np.uint8(centers)  # convert data into 8-bit values\n",
    "\n",
    "    segmented_data = centers[\n",
    "        labels.flatten()\n",
    "    ]  # Mapping labels to center points( RGB Value)\n",
    "    segmented_image = segmented_data.reshape(\n",
    "        (image.shape)\n",
    "    )  # reshape data into the original image dimensions\n",
    "\n",
    "    segmented_labels = labels  # Mapping labels to center points( RGB Value)\n",
    "    segmented_labels = segmented_labels.reshape(\n",
    "        (image.shape)\n",
    "    )  # reshape data into the original image dimensions\n",
    "\n",
    "    return segmented_image, segmented_labels\n",
    "\n",
    "\n",
    "def my_colormap_white_bkg(Colormap_name, numLabels):\n",
    "    # numLabels = number of colors\n",
    "\n",
    "    Colormap = plt.get_cmap(Colormap_name, numLabels)\n",
    "    newcolors = Colormap(np.linspace(0, 1, numLabels))\n",
    "    bkg_color = np.array([256 / 256, 256 / 256, 256 / 256, 1])\n",
    "    max_color = np.array([0 / 256, 0 / 256, 0 / 256, 1])\n",
    "    newcolors[numLabels - 1, :] = max_color\n",
    "    newcolors[0, :] = bkg_color\n",
    "    newcmp = ListedColormap(newcolors)\n",
    "    return newcmp"
   ]
  },
  {
   "cell_type": "markdown",
   "metadata": {},
   "source": [
    "# Answers"
   ]
  },
  {
   "cell_type": "markdown",
   "metadata": {},
   "source": [
    "## First use case"
   ]
  },
  {
   "cell_type": "code",
   "execution_count": 3,
   "metadata": {},
   "outputs": [],
   "source": [
    "def crop_center(img, new_shape):\n",
    "    start = tuple(map(lambda a, da: a // 2 - da // 2, img.shape, new_shape))\n",
    "    end = tuple(map(operator.add, start, new_shape))\n",
    "    slices = tuple(map(slice, start, end))\n",
    "\n",
    "    return img[slices]"
   ]
  },
  {
   "cell_type": "code",
   "execution_count": 4,
   "metadata": {},
   "outputs": [],
   "source": [
    "def segment_brain_pipeline(\n",
    "    Img_brain,\n",
    "    resize_shape,\n",
    "    center_shape,\n",
    "    equalize_adapthist_clip_limit,\n",
    "    median_filter_size,\n",
    "    initial_lower_bound,\n",
    "    Target_value_thresh,\n",
    "    nber_clusters,\n",
    "    objects_min_size,\n",
    "    verbose=0,\n",
    "):\n",
    "    # Preprocessing ========================================\n",
    "\n",
    "    # Simple thresholding\n",
    "    Img_brain[Img_brain < 255 * initial_lower_bound] = 0\n",
    "\n",
    "    # Reshaping the brain: resampling and croping to the center\n",
    "    original_shape = Img_brain.shape\n",
    "    Img_brain = cv2.resize(Img_brain, resize_shape)\n",
    "    Img_brain = crop_center(Img_brain, center_shape)\n",
    "\n",
    "    # Histogram equalization and median filtering\n",
    "    img_histeqmed = (\n",
    "        ndimage.median_filter(\n",
    "            skimage.exposure.equalize_adapthist(\n",
    "                Img_brain, clip_limit=equalize_adapthist_clip_limit\n",
    "            ),\n",
    "            size=median_filter_size,\n",
    "        )\n",
    "        * 255\n",
    "    ).astype(\"uint8\")\n",
    "\n",
    "    # Segmentation ========================================\n",
    "\n",
    "    # Segmentation via simple thresholding: used to define target calss\n",
    "    Seg_thresh = morphology.opening(\n",
    "        morphology.remove_small_holes(\n",
    "            morphology.remove_small_objects(\n",
    "                img_histeqmed > Target_value_thresh * 255, min_size=500, connectivity=1\n",
    "            ),\n",
    "            area_threshold=500,\n",
    "        ),\n",
    "        morphology.disk(3),\n",
    "    ).astype(\"uint8\")\n",
    "\n",
    "    # Segmentation via kmeans: used to identify different classes\n",
    "    Seg_km, Seg_km_labels = my_kmeans(img_histeqmed, nber_clusters)\n",
    "\n",
    "    if verbose >= 1:\n",
    "        Colormap = plt.get_cmap(\"nipy_spectral\", nber_clusters)\n",
    "\n",
    "        fig, axes = plt.subplots(1, 5, figsize=(15, 5))\n",
    "        ax = axes.ravel()\n",
    "\n",
    "        ax[0].imshow(Img_brain, cmap=\"gray\")\n",
    "        ax[0].set_title(\"Original\")\n",
    "\n",
    "        ax[1].imshow(img_histeqmed, cmap=\"gray\")\n",
    "        ax[1].set_title(\"HistEqMed\")\n",
    "\n",
    "        ax[2].imshow(Seg_thresh, cmap=\"gray\")\n",
    "        ax[2].set_title(\"Thresholding\")\n",
    "\n",
    "        tmp = ax[3].imshow(Seg_km, cmap=\"nipy_spectral\")\n",
    "        divider = make_axes_locatable(ax[3])\n",
    "        cax = divider.append_axes(\"right\", size=\"5%\", pad=0.05)\n",
    "        ax[3].set_title(\"kmeans Centers\")\n",
    "        fig.colorbar(tmp, cax=cax, orientation=\"vertical\")\n",
    "\n",
    "        tmp = ax[4].imshow(Seg_km_labels, cmap=Colormap)\n",
    "        divider = make_axes_locatable(ax[4])\n",
    "        cax = divider.append_axes(\"right\", size=\"5%\", pad=0.05)\n",
    "        fig.colorbar(tmp, cax=cax, orientation=\"vertical\")\n",
    "        ax[4].set_title(\"kmeans labels\")\n",
    "\n",
    "        fig.tight_layout()\n",
    "        plt.show()\n",
    "\n",
    "    # Post processing ========================================\n",
    "\n",
    "    # Get mean pixel intensity values under all Kmeans labels\n",
    "    Img_label_means = np.empty(nber_clusters)\n",
    "    for i in range(0, nber_clusters):\n",
    "        Img_label_mask = Seg_km_labels == i\n",
    "        Img_label_mask = Img_label_mask.astype(\"uint8\")\n",
    "        tmp = cv2.mean(img_histeqmed, Img_label_mask)\n",
    "        Img_label_means[i] = tmp[0]\n",
    "\n",
    "    # Set a target intensity value (derived from the thresholding segmentation)\n",
    "    # and get the Kmeans label closest to it\n",
    "    Target_value = cv2.mean(img_histeqmed, Seg_thresh)\n",
    "    Target_value = Target_value[0]\n",
    "    Diff = np.absolute(Img_label_means - Target_value * np.ones(nber_clusters))\n",
    "    Label_select = np.argmin(Diff)\n",
    "\n",
    "    if verbose >= 1:\n",
    "        print(\"Your Target_value = \", np.round(Target_value).astype(int))\n",
    "        print(\"Distance of your Target_value to Centers = \", np.round(Diff).astype(int))\n",
    "        print(\"Your selected label (starting with 0) = \", Label_select)\n",
    "\n",
    "    # Filter the selected label and get a binary segmentation mask\n",
    "    Img_label_select = Seg_km_labels == Label_select\n",
    "\n",
    "    # Removing small objects and small holes\n",
    "    Img_label_select_clean = morphology.remove_small_holes(\n",
    "        morphology.remove_small_objects(\n",
    "            Img_label_select, min_size=objects_min_size, connectivity=1\n",
    "        ),\n",
    "        area_threshold=objects_min_size,\n",
    "    )\n",
    "\n",
    "    if verbose >= 1:\n",
    "        fig, axes = plt.subplots(1, 2, figsize=(6, 5))\n",
    "        ax = axes.ravel()\n",
    "\n",
    "        ax[0].imshow(Img_label_select, cmap=\"gray\")\n",
    "        ax[1].imshow(Img_label_select_clean, cmap=\"gray\")\n",
    "\n",
    "        plt.show()\n",
    "\n",
    "    # Selecting largest contour\n",
    "    _, labels, stats, _ = cv2.connectedComponentsWithStats(\n",
    "        Img_label_select_clean.astype(\"uint8\"), connectivity=4\n",
    "    )\n",
    "    final_mask = (255 * (labels == np.argsort(stats[:, 4])[-2])).astype(\"uint8\")\n",
    "\n",
    "    # Restoring original shape\n",
    "    final_mask = np.pad(\n",
    "        final_mask,\n",
    "        (\n",
    "            (\n",
    "                (resize_shape[0] - Img_brain.shape[0]) // 2,\n",
    "                (resize_shape[0] - Img_brain.shape[0]) // 2,\n",
    "            ),\n",
    "            (\n",
    "                (resize_shape[1] - Img_brain.shape[1]) // 2,\n",
    "                (resize_shape[1] - Img_brain.shape[1]) // 2,\n",
    "            ),\n",
    "        ),\n",
    "        mode=\"constant\",\n",
    "        constant_values=0,\n",
    "    )\n",
    "    final_mask = cv2.resize(final_mask, original_shape)\n",
    "    final_mask[final_mask > 0] = 255\n",
    "\n",
    "    return final_mask"
   ]
  },
  {
   "cell_type": "markdown",
   "metadata": {},
   "source": [
    "Variables defined:\n",
    "\n",
    "- `index`: Index to select brain image (used values: $0$ to $3$)\n",
    "- `brainMRI_path`: Path to the brain images directory (used value across all cases `Working_directory + \"/data/brainMRI\"`, `Working_directory` as previously defined)\n",
    "- `Img_seg_gt`: Segmented image ground truth (used values derived from `index`)\n",
    "- `Img_brain`: Selected brain image (used values derived from `index`)\n",
    "- `resize_shape`: Shape to resize on the spatial normalization preprocessing(used value across all cases `(256, 256)`)\n",
    "- `center_shape`: Center shape to crop on the spatial normalization preprocessing (used value across all cases `(140, 100)`). As the corpus callosum is generally located around the center of the image, this preprocessing is specially useful for this use case.\n",
    "- `equalize_adapthist_clip_limit`: Clipping limit on histogram equalization preprocessing (used value across all cases `0.04`)\n",
    "- `median_filter_size`: Median filter size on preprocessing (used value across all cases `4`)\n",
    "- `initial_lower_bound`: Threshold on preprocessing (used value across all cases `0.1`)\n",
    "- `Target_value_thresh`: Threshold on threshold segmentation(used value across all cases `0.6`)\n",
    "- `nber_clusters`: Number of clusters on Kmeans segmentation (used value across all cases `5`)\n",
    "- `objects_min_size`: The smallest allowable object size on removal of objects and holes post processing (used value across all cases `150`)"
   ]
  },
  {
   "cell_type": "code",
   "execution_count": 5,
   "metadata": {},
   "outputs": [
    {
     "name": "stdout",
     "output_type": "stream",
     "text": [
      "Brain index: 0 ================================================================================\n"
     ]
    },
    {
     "data": {
      "image/png": "[encoded data removed]",
      "text/plain": [
       "<Figure size 600x500 with 2 Axes>"
      ]
     },
     "metadata": {},
     "output_type": "display_data"
    },
    {
     "name": "stdout",
     "output_type": "stream",
     "text": [
      "Dice: 0.8899208806329549\n",
      "\n",
      "\n",
      "\n",
      "Brain index: 1 ================================================================================\n"
     ]
    },
    {
     "data": {
      "image/png": "[encoded data removed]",
      "text/plain": [
       "<Figure size 600x500 with 2 Axes>"
      ]
     },
     "metadata": {},
     "output_type": "display_data"
    },
    {
     "name": "stdout",
     "output_type": "stream",
     "text": [
      "Dice: 0.8147295742232451\n",
      "\n",
      "\n",
      "\n",
      "Brain index: 2 ================================================================================\n"
     ]
    },
    {
     "data": {
      "image/png": "[encoded data removed]",
      "text/plain": [
       "<Figure size 600x500 with 2 Axes>"
      ]
     },
     "metadata": {},
     "output_type": "display_data"
    },
    {
     "name": "stdout",
     "output_type": "stream",
     "text": [
      "Dice: 0.816542014958205\n",
      "\n",
      "\n",
      "\n",
      "Brain index: 3 ================================================================================\n"
     ]
    },
    {
     "data": {
      "image/png": "[encoded data removed]",
      "text/plain": [
       "<Figure size 600x500 with 2 Axes>"
      ]
     },
     "metadata": {},
     "output_type": "display_data"
    },
    {
     "name": "stdout",
     "output_type": "stream",
     "text": [
      "Dice: 0.8647488192357234\n",
      "\n",
      "\n",
      "\n"
     ]
    }
   ],
   "source": [
    "for index in range(4):\n",
    "    print(\n",
    "        f\"Brain index: {index} ================================================================================\"\n",
    "    )\n",
    "\n",
    "    # Reading the brain image and its mask\n",
    "    brainMRI_path = Working_directory + \"/data/brainMRI\"\n",
    "    listImagesbrainMRI = glob.glob(brainMRI_path + \"/*-seg.png\")\n",
    "\n",
    "    filename_seg = listImagesbrainMRI[index]\n",
    "    Img_seg_gt = imread(filename_seg)\n",
    "\n",
    "    filename = filename_seg[:-8] + \".png\"\n",
    "    Img_brain = imread(filename)\n",
    "\n",
    "    mask = segment_brain_pipeline(\n",
    "        Img_brain=Img_brain,\n",
    "        resize_shape=(256, 256),\n",
    "        center_shape=(140, 100),\n",
    "        equalize_adapthist_clip_limit=0.04,\n",
    "        median_filter_size=4,\n",
    "        initial_lower_bound=0.1,\n",
    "        Target_value_thresh=0.6,\n",
    "        nber_clusters=5,\n",
    "        objects_min_size=150,\n",
    "    )\n",
    "\n",
    "    # visualizations\n",
    "    fig, axes = plt.subplots(1, 2, figsize=(6, 5))\n",
    "    ax = axes.ravel()\n",
    "\n",
    "    ax[0].imshow(mask, cmap=\"gray\")\n",
    "    ax[0].set_title(\"Segmented mask\")\n",
    "    ax[1].imshow(Img_seg_gt, cmap=\"gray\")\n",
    "    ax[1].set_title(\"Ground Truth\")\n",
    "\n",
    "    mask = mask // 255\n",
    "    Img_seg_gt = Img_seg_gt // 255\n",
    "\n",
    "    plt.show()\n",
    "\n",
    "    Dice = (\n",
    "        np.sum(np.logical_and(mask, Img_seg_gt))\n",
    "        * 2.0\n",
    "        / (np.sum(mask) + np.sum(Img_seg_gt))\n",
    "    )\n",
    "\n",
    "    print(f\"Dice: {Dice}\")\n",
    "    print(\"\\n\\n\")"
   ]
  },
  {
   "cell_type": "markdown",
   "metadata": {},
   "source": [
    "In the context of brain imagery, a comprehensive pipeline was successfully developed for all images, consistently producing segmented masks of the corpus callosum. The implementation, utilizing identical hyperparameters across cases, achieved a Dice coefficient surpassing $80%$. Upon qualitative analysis of the original brain images, it is evident that the segmented masks align well with the structures present, reinforcing the reliability of the segmentation process."
   ]
  }
 ],
 "metadata": {
  "colab": {
   "collapsed_sections": [],
   "name": "TP_Seg.ipynb",
   "provenance": []
  },
  "kernelspec": {
   "display_name": "Python 3 (ipykernel)",
   "language": "python",
   "name": "python3"
  },
  "language_info": {
   "codemirror_mode": {
    "name": "ipython",
    "version": 3
   },
   "file_extension": ".py",
   "mimetype": "text/x-python",
   "name": "python",
   "nbconvert_exporter": "python",
   "pygments_lexer": "ipython3",
   "version": "3.12.1"
  }
 },
 "nbformat": 4,
 "nbformat_minor": 1
}
